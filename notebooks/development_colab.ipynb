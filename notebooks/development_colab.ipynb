from sacrebleu import corpus_bleu

references = [["buku ini membahas filsafat dasar..."]]
hypotheses = ["buku ini membahas pengantar filsafat dan aliran-alirannya."]
print(corpus_bleu(hypotheses, references))
